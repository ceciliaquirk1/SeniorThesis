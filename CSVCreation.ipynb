{
 "cells": [
  {
   "cell_type": "code",
   "execution_count": 4,
   "id": "65840ed5",
   "metadata": {},
   "outputs": [],
   "source": [
    "import pandas as pd\n",
    "import matplotlib.pyplot as plt\n",
    "import math\n",
    "import numpy as np\n",
    "import networkx as nx\n",
    "import statistics"
   ]
  },
  {
   "cell_type": "code",
   "execution_count": 5,
   "id": "96dc9414",
   "metadata": {},
   "outputs": [],
   "source": [
    "events_df = pd.read_csv('/home/cquirk/network_data_crisis_events.csv')"
   ]
  },
  {
   "cell_type": "code",
   "execution_count": 6,
   "id": "ee69b034",
   "metadata": {},
   "outputs": [],
   "source": [
    "events_df.insert(5, 'Color', 'gray')"
   ]
  },
  {
   "cell_type": "code",
   "execution_count": 7,
   "id": "2bdf8212",
   "metadata": {},
   "outputs": [],
   "source": [
    "# anger, anticipation, disgust, fear, joy, sadness, surprise, trust, or neutral\n",
    "# red,   orange,    green,  purple, yellow, light blue, pink, dark blue, gray\n",
    "for i in range(len(events_df)):\n",
    "    if events_df['Emotion'].iloc[i] == 'Anger': events_df.at[i,'Color'] = '#d62728'\n",
    "    elif events_df['Emotion'].iloc[i] == 'Anticipation': events_df.at[i,'Color'] = '#ff7f0e'\n",
    "    elif events_df['Emotion'].iloc[i] == 'Disgust': events_df.at[i,'Color'] = '#2ca02c'\n",
    "    elif events_df['Emotion'].iloc[i] == 'Fear': events_df.at[i,'Color'] = '#9467bd'\n",
    "    elif events_df['Emotion'].iloc[i] == 'Joy': events_df.at[i,'Color'] = '#bcbd22'\n",
    "    elif events_df['Emotion'].iloc[i] == 'Sadness': events_df.at[i,'Color'] = '#17becf'\n",
    "    elif events_df['Emotion'].iloc[i] == 'Surprise': events_df.at[i,'Color'] = '#e377c2'\n",
    "    elif events_df['Emotion'].iloc[i] == 'Trust': events_df.at[i,'Color'] = '#1f77b4'"
   ]
  },
  {
   "cell_type": "code",
   "execution_count": 8,
   "id": "4b067a15",
   "metadata": {},
   "outputs": [],
   "source": [
    "#natural disasters\n",
    "hurricane_harvey_df = events_df.loc[events_df['Event'] == 'hurricane_harvey']\n",
    "hurricane_irma_df = events_df.loc[events_df['Event'] == 'hurricane_irma']\n",
    "earthquake_mexico_df = events_df.loc[events_df['Event'] == 'earthquake_mexico']\n",
    "hurricane_maria_df = events_df.loc[events_df['Event'] == 'hurricane_maria']\n",
    "earthquake_costarica_df = events_df.loc[events_df['Event'] == 'earthquake_costarica']\n",
    "earthquake_iran_iraq_df = events_df.loc[events_df['Event'] == 'earthquake_iran_iraq']\n",
    "mudslide_california_df = events_df.loc[events_df['Event'] == 'mudslide_california']\n",
    "windstorm_friederike_df = events_df.loc[events_df['Event'] == 'windstorm_friederike']\n",
    "wildfire_nairobi_df = events_df.loc[events_df['Event'] == 'wildfire_nairobi']"
   ]
  },
  {
   "cell_type": "code",
   "execution_count": 9,
   "id": "93d5ea77",
   "metadata": {},
   "outputs": [],
   "source": [
    "#riots\n",
    "riot_hamburg_G20_df = events_df.loc[events_df['Event'] == 'riot_hamburg_G20']\n",
    "riot_charlottesville_df = events_df.loc[events_df['Event'] == 'riot_charlottesville']\n",
    "riot_catalonia_df = events_df.loc[events_df['Event'] == 'riot_catalonia']\n",
    "riot_philadelphia_superbowl_df = events_df.loc[events_df['Event'] == 'riot_philadelphia_superbowl']"
   ]
  },
  {
   "cell_type": "code",
   "execution_count": 10,
   "id": "4df32d8d",
   "metadata": {},
   "outputs": [],
   "source": [
    "#shootings and terror attacks\n",
    "school_shooting_tehama_county_df = events_df.loc[events_df['Event'] == 'school_shooting_tehama_county']\n",
    "shooting_trebes_france_df = events_df.loc[events_df['Event'] == 'shooting_trebes_france']\n",
    "shooting_youtube_HQ_df = events_df.loc[events_df['Event'] == 'shooting_youtube_HQ']\n",
    "van_attack_muenster_df = events_df.loc[events_df['Event'] == 'van_attack_muenster']\n",
    "school_shooting_santa_fe_df = events_df.loc[events_df['Event'] == 'school_shooting_santa_fe']"
   ]
  },
  {
   "cell_type": "code",
   "execution_count": 11,
   "id": "5c9053eb",
   "metadata": {},
   "outputs": [],
   "source": [
    "#save csvs\n",
    "hurricane_harvey_df.to_csv('/home/cquirk/hurricane_harvey_df.csv')\n",
    "hurricane_irma_df.to_csv('/home/cquirk/hurricane_irma_df.csv')\n",
    "earthquake_mexico_df.to_csv('/home/cquirk/earthquake_mexico_df.csv')\n",
    "hurricane_maria_df.to_csv('/home/cquirk/hurricane_maria_df.csv')\n",
    "earthquake_costarica_df.to_csv('/home/cquirk/earthquake_costarica_df.csv')\n",
    "earthquake_iran_iraq_df.to_csv('/home/cquirk/earthquake_iran_iraq_df.csv')\n",
    "mudslide_california_df.to_csv('/home/cquirk/mudslide_california_df.csv')\n",
    "windstorm_friederike_df.to_csv('/home/cquirk/windstorm_friederike_df.csv')\n",
    "wildfire_nairobi_df.to_csv('/home/cquirk/wildfire_nairobi_df.csv')\n",
    "\n",
    "riot_hamburg_G20_df.to_csv('/home/cquirk/riot_hamburg_G20_df.csv')\n",
    "riot_charlottesville_df.to_csv('/home/cquirk/riot_charlottesville_df.csv')\n",
    "riot_catalonia_df.to_csv('/home/cquirk/riot_catalonia_df.csv')\n",
    "\n",
    "school_shooting_tehama_county_df.to_csv('/home/cquirk/school_shooting_tehama_county_df.csv')\n",
    "shooting_trebes_france_df.to_csv('/home/cquirk/shooting_trebes_france_df.csv')\n",
    "shooting_youtube_HQ_df.to_csv('/home/cquirk/shooting_youtube_HQ_df.csv')\n",
    "van_attack_muenster_df.to_csv('/home/cquirk/van_attack_muenster_df.csv')\n",
    "school_shooting_santa_fe_df.to_csv('/home/cquirk/school_shooting_santa_fe_df.csv')\n",
    "\n",
    "\n"
   ]
  }
 ],
 "metadata": {
  "kernelspec": {
   "display_name": "Python 3 (ipykernel)",
   "language": "python",
   "name": "python3"
  },
  "language_info": {
   "codemirror_mode": {
    "name": "ipython",
    "version": 3
   },
   "file_extension": ".py",
   "mimetype": "text/x-python",
   "name": "python",
   "nbconvert_exporter": "python",
   "pygments_lexer": "ipython3",
   "version": "3.9.7"
  }
 },
 "nbformat": 4,
 "nbformat_minor": 5
}
